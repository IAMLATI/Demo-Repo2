{
  "nbformat": 4,
  "nbformat_minor": 0,
  "metadata": {
    "colab": {
      "provenance": [],
      "authorship_tag": "ABX9TyO4l/ilfv3/D9ole3wj2EKN",
      "include_colab_link": true
    },
    "kernelspec": {
      "name": "python3",
      "display_name": "Python 3"
    },
    "language_info": {
      "name": "python"
    }
  },
  "cells": [
    {
      "cell_type": "markdown",
      "metadata": {
        "id": "view-in-github",
        "colab_type": "text"
      },
      "source": [
        "<a href=\"https://colab.research.google.com/github/IAMLATI/Demo-Repo2/blob/master/RNN_Keras.ipynb\" target=\"_parent\"><img src=\"https://colab.research.google.com/assets/colab-badge.svg\" alt=\"Open In Colab\"/></a>"
      ]
    },
    {
      "cell_type": "code",
      "source": [
        "pip install tensorflow"
      ],
      "metadata": {
        "colab": {
          "base_uri": "https://localhost:8080/",
          "height": 0
        },
        "id": "0gQ6aj0WhetZ",
        "outputId": "3efafde3-a05b-40b8-924d-b1da88b0959b"
      },
      "execution_count": 1,
      "outputs": [
        {
          "output_type": "stream",
          "name": "stdout",
          "text": [
            "Requirement already satisfied: tensorflow in /usr/local/lib/python3.11/dist-packages (2.18.0)\n",
            "Requirement already satisfied: absl-py>=1.0.0 in /usr/local/lib/python3.11/dist-packages (from tensorflow) (1.4.0)\n",
            "Requirement already satisfied: astunparse>=1.6.0 in /usr/local/lib/python3.11/dist-packages (from tensorflow) (1.6.3)\n",
            "Requirement already satisfied: flatbuffers>=24.3.25 in /usr/local/lib/python3.11/dist-packages (from tensorflow) (25.2.10)\n",
            "Requirement already satisfied: gast!=0.5.0,!=0.5.1,!=0.5.2,>=0.2.1 in /usr/local/lib/python3.11/dist-packages (from tensorflow) (0.6.0)\n",
            "Requirement already satisfied: google-pasta>=0.1.1 in /usr/local/lib/python3.11/dist-packages (from tensorflow) (0.2.0)\n",
            "Requirement already satisfied: libclang>=13.0.0 in /usr/local/lib/python3.11/dist-packages (from tensorflow) (18.1.1)\n",
            "Requirement already satisfied: opt-einsum>=2.3.2 in /usr/local/lib/python3.11/dist-packages (from tensorflow) (3.4.0)\n",
            "Requirement already satisfied: packaging in /usr/local/lib/python3.11/dist-packages (from tensorflow) (25.0)\n",
            "Requirement already satisfied: protobuf!=4.21.0,!=4.21.1,!=4.21.2,!=4.21.3,!=4.21.4,!=4.21.5,<6.0.0dev,>=3.20.3 in /usr/local/lib/python3.11/dist-packages (from tensorflow) (5.29.5)\n",
            "Requirement already satisfied: requests<3,>=2.21.0 in /usr/local/lib/python3.11/dist-packages (from tensorflow) (2.32.3)\n",
            "Requirement already satisfied: setuptools in /usr/local/lib/python3.11/dist-packages (from tensorflow) (75.2.0)\n",
            "Requirement already satisfied: six>=1.12.0 in /usr/local/lib/python3.11/dist-packages (from tensorflow) (1.17.0)\n",
            "Requirement already satisfied: termcolor>=1.1.0 in /usr/local/lib/python3.11/dist-packages (from tensorflow) (3.1.0)\n",
            "Requirement already satisfied: typing-extensions>=3.6.6 in /usr/local/lib/python3.11/dist-packages (from tensorflow) (4.14.1)\n",
            "Requirement already satisfied: wrapt>=1.11.0 in /usr/local/lib/python3.11/dist-packages (from tensorflow) (1.17.2)\n",
            "Requirement already satisfied: grpcio<2.0,>=1.24.3 in /usr/local/lib/python3.11/dist-packages (from tensorflow) (1.73.1)\n",
            "Requirement already satisfied: tensorboard<2.19,>=2.18 in /usr/local/lib/python3.11/dist-packages (from tensorflow) (2.18.0)\n",
            "Requirement already satisfied: keras>=3.5.0 in /usr/local/lib/python3.11/dist-packages (from tensorflow) (3.8.0)\n",
            "Requirement already satisfied: numpy<2.1.0,>=1.26.0 in /usr/local/lib/python3.11/dist-packages (from tensorflow) (2.0.2)\n",
            "Requirement already satisfied: h5py>=3.11.0 in /usr/local/lib/python3.11/dist-packages (from tensorflow) (3.14.0)\n",
            "Requirement already satisfied: ml-dtypes<0.5.0,>=0.4.0 in /usr/local/lib/python3.11/dist-packages (from tensorflow) (0.4.1)\n",
            "Requirement already satisfied: tensorflow-io-gcs-filesystem>=0.23.1 in /usr/local/lib/python3.11/dist-packages (from tensorflow) (0.37.1)\n",
            "Requirement already satisfied: wheel<1.0,>=0.23.0 in /usr/local/lib/python3.11/dist-packages (from astunparse>=1.6.0->tensorflow) (0.45.1)\n",
            "Requirement already satisfied: rich in /usr/local/lib/python3.11/dist-packages (from keras>=3.5.0->tensorflow) (13.9.4)\n",
            "Requirement already satisfied: namex in /usr/local/lib/python3.11/dist-packages (from keras>=3.5.0->tensorflow) (0.1.0)\n",
            "Requirement already satisfied: optree in /usr/local/lib/python3.11/dist-packages (from keras>=3.5.0->tensorflow) (0.16.0)\n",
            "Requirement already satisfied: charset-normalizer<4,>=2 in /usr/local/lib/python3.11/dist-packages (from requests<3,>=2.21.0->tensorflow) (3.4.2)\n",
            "Requirement already satisfied: idna<4,>=2.5 in /usr/local/lib/python3.11/dist-packages (from requests<3,>=2.21.0->tensorflow) (3.10)\n",
            "Requirement already satisfied: urllib3<3,>=1.21.1 in /usr/local/lib/python3.11/dist-packages (from requests<3,>=2.21.0->tensorflow) (2.4.0)\n",
            "Requirement already satisfied: certifi>=2017.4.17 in /usr/local/lib/python3.11/dist-packages (from requests<3,>=2.21.0->tensorflow) (2025.7.14)\n",
            "Requirement already satisfied: markdown>=2.6.8 in /usr/local/lib/python3.11/dist-packages (from tensorboard<2.19,>=2.18->tensorflow) (3.8.2)\n",
            "Requirement already satisfied: tensorboard-data-server<0.8.0,>=0.7.0 in /usr/local/lib/python3.11/dist-packages (from tensorboard<2.19,>=2.18->tensorflow) (0.7.2)\n",
            "Requirement already satisfied: werkzeug>=1.0.1 in /usr/local/lib/python3.11/dist-packages (from tensorboard<2.19,>=2.18->tensorflow) (3.1.3)\n",
            "Requirement already satisfied: MarkupSafe>=2.1.1 in /usr/local/lib/python3.11/dist-packages (from werkzeug>=1.0.1->tensorboard<2.19,>=2.18->tensorflow) (3.0.2)\n",
            "Requirement already satisfied: markdown-it-py>=2.2.0 in /usr/local/lib/python3.11/dist-packages (from rich->keras>=3.5.0->tensorflow) (3.0.0)\n",
            "Requirement already satisfied: pygments<3.0.0,>=2.13.0 in /usr/local/lib/python3.11/dist-packages (from rich->keras>=3.5.0->tensorflow) (2.19.2)\n",
            "Requirement already satisfied: mdurl~=0.1 in /usr/local/lib/python3.11/dist-packages (from markdown-it-py>=2.2.0->rich->keras>=3.5.0->tensorflow) (0.1.2)\n"
          ]
        }
      ]
    },
    {
      "cell_type": "code",
      "execution_count": 2,
      "metadata": {
        "id": "qzKR5xZThGLV"
      },
      "outputs": [],
      "source": [
        "from tensorflow.keras.preprocessing.text import one_hot"
      ]
    },
    {
      "cell_type": "code",
      "source": [
        "sent=[\n",
        "    \"the glass of milk\",\n",
        "    \"the glass of Juice\",\n",
        "    \"the cup of tea\",\n",
        "    \"I am a good boy\",\n",
        "    \"I am a good developer\",\n",
        "    \"Understand the meaning of words\",\n",
        "    \"Your videos are good\"\n",
        "]"
      ],
      "metadata": {
        "id": "t6YjORdIkTrx"
      },
      "execution_count": 3,
      "outputs": []
    },
    {
      "cell_type": "code",
      "source": [
        "## define the vocabulary size\n",
        "voc_size=10000\n"
      ],
      "metadata": {
        "id": "fca-PrPmk3p3"
      },
      "execution_count": 4,
      "outputs": []
    },
    {
      "cell_type": "code",
      "source": [
        " ### One hot representation\n",
        "one_hot_repr= [one_hot(words, voc_size) for words in sent]\n",
        "one_hot_repr"
      ],
      "metadata": {
        "colab": {
          "base_uri": "https://localhost:8080/",
          "height": 0
        },
        "id": "AbEkdakKrIE4",
        "outputId": "ce7b3c0b-aa57-4525-efeb-a588b1b2c4bf"
      },
      "execution_count": 5,
      "outputs": [
        {
          "output_type": "execute_result",
          "data": {
            "text/plain": [
              "[[9217, 4460, 5953, 7610],\n",
              " [9217, 4460, 5953, 8722],\n",
              " [9217, 8729, 5953, 443],\n",
              " [1296, 3601, 1506, 2771, 900],\n",
              " [1296, 3601, 1506, 2771, 2576],\n",
              " [3812, 9217, 3657, 5953, 4048],\n",
              " [1332, 454, 7476, 2771]]"
            ]
          },
          "metadata": {},
          "execution_count": 5
        }
      ]
    },
    {
      "cell_type": "code",
      "source": [
        "## word embedding repr\n",
        "\n",
        "from tensorflow.keras.layers import Embedding\n",
        "from tensorflow.keras.utils import pad_sequences\n",
        "from tensorflow.keras.models import Sequential"
      ],
      "metadata": {
        "id": "2P3_b83Erv9m"
      },
      "execution_count": 6,
      "outputs": []
    },
    {
      "cell_type": "code",
      "source": [
        "sent_length=8\n",
        "embeeded_docs=pad_sequences(one_hot_repr, padding= 'pre', maxlen= sent_length)"
      ],
      "metadata": {
        "id": "V4WIZzUIsjqs"
      },
      "execution_count": 7,
      "outputs": []
    },
    {
      "cell_type": "code",
      "source": [
        "print(embeeded_docs)"
      ],
      "metadata": {
        "colab": {
          "base_uri": "https://localhost:8080/",
          "height": 0
        },
        "id": "7rYxC56ru4hD",
        "outputId": "2e272e01-b22f-4a0c-95d3-16f741d06424"
      },
      "execution_count": 8,
      "outputs": [
        {
          "output_type": "stream",
          "name": "stdout",
          "text": [
            "[[   0    0    0    0 9217 4460 5953 7610]\n",
            " [   0    0    0    0 9217 4460 5953 8722]\n",
            " [   0    0    0    0 9217 8729 5953  443]\n",
            " [   0    0    0 1296 3601 1506 2771  900]\n",
            " [   0    0    0 1296 3601 1506 2771 2576]\n",
            " [   0    0    0 3812 9217 3657 5953 4048]\n",
            " [   0    0    0    0 1332  454 7476 2771]]\n"
          ]
        }
      ]
    },
    {
      "cell_type": "code",
      "source": [
        "## feature repr\n",
        "dim=10"
      ],
      "metadata": {
        "id": "nEhIIIaFvY7n"
      },
      "execution_count": 9,
      "outputs": []
    },
    {
      "cell_type": "code",
      "source": [
        "model=Sequential()\n",
        "model.add(Embedding(voc_size,dim,input_length=sent_length))\n",
        "model.compile('adam','mse')\n",
        "model.build(input_shape=(None, sent_length))"
      ],
      "metadata": {
        "colab": {
          "base_uri": "https://localhost:8080/",
          "height": 0
        },
        "id": "00J9a-vKvgyh",
        "outputId": "ad944ebd-76f1-4748-8359-77dcacfb45e6"
      },
      "execution_count": 10,
      "outputs": [
        {
          "output_type": "stream",
          "name": "stderr",
          "text": [
            "/usr/local/lib/python3.11/dist-packages/keras/src/layers/core/embedding.py:90: UserWarning: Argument `input_length` is deprecated. Just remove it.\n",
            "  warnings.warn(\n"
          ]
        }
      ]
    },
    {
      "cell_type": "code",
      "source": [
        "model.summary()"
      ],
      "metadata": {
        "colab": {
          "base_uri": "https://localhost:8080/",
          "height": 161
        },
        "id": "WWZjv4eExEBW",
        "outputId": "43fdcfbc-121d-482d-8701-f04db94512bc"
      },
      "execution_count": 11,
      "outputs": [
        {
          "output_type": "display_data",
          "data": {
            "text/plain": [
              "\u001b[1mModel: \"sequential\"\u001b[0m\n"
            ],
            "text/html": [
              "<pre style=\"white-space:pre;overflow-x:auto;line-height:normal;font-family:Menlo,'DejaVu Sans Mono',consolas,'Courier New',monospace\"><span style=\"font-weight: bold\">Model: \"sequential\"</span>\n",
              "</pre>\n"
            ]
          },
          "metadata": {}
        },
        {
          "output_type": "display_data",
          "data": {
            "text/plain": [
              "┏━━━━━━━━━━━━━━━━━━━━━━━━━━━━━━━━━┳━━━━━━━━━━━━━━━━━━━━━━━━┳━━━━━━━━━━━━━━━┓\n",
              "┃\u001b[1m \u001b[0m\u001b[1mLayer (type)                   \u001b[0m\u001b[1m \u001b[0m┃\u001b[1m \u001b[0m\u001b[1mOutput Shape          \u001b[0m\u001b[1m \u001b[0m┃\u001b[1m \u001b[0m\u001b[1m      Param #\u001b[0m\u001b[1m \u001b[0m┃\n",
              "┡━━━━━━━━━━━━━━━━━━━━━━━━━━━━━━━━━╇━━━━━━━━━━━━━━━━━━━━━━━━╇━━━━━━━━━━━━━━━┩\n",
              "│ embedding (\u001b[38;5;33mEmbedding\u001b[0m)           │ (\u001b[38;5;45mNone\u001b[0m, \u001b[38;5;34m8\u001b[0m, \u001b[38;5;34m10\u001b[0m)          │       \u001b[38;5;34m100,000\u001b[0m │\n",
              "└─────────────────────────────────┴────────────────────────┴───────────────┘\n"
            ],
            "text/html": [
              "<pre style=\"white-space:pre;overflow-x:auto;line-height:normal;font-family:Menlo,'DejaVu Sans Mono',consolas,'Courier New',monospace\">┏━━━━━━━━━━━━━━━━━━━━━━━━━━━━━━━━━┳━━━━━━━━━━━━━━━━━━━━━━━━┳━━━━━━━━━━━━━━━┓\n",
              "┃<span style=\"font-weight: bold\"> Layer (type)                    </span>┃<span style=\"font-weight: bold\"> Output Shape           </span>┃<span style=\"font-weight: bold\">       Param # </span>┃\n",
              "┡━━━━━━━━━━━━━━━━━━━━━━━━━━━━━━━━━╇━━━━━━━━━━━━━━━━━━━━━━━━╇━━━━━━━━━━━━━━━┩\n",
              "│ embedding (<span style=\"color: #0087ff; text-decoration-color: #0087ff\">Embedding</span>)           │ (<span style=\"color: #00d7ff; text-decoration-color: #00d7ff\">None</span>, <span style=\"color: #00af00; text-decoration-color: #00af00\">8</span>, <span style=\"color: #00af00; text-decoration-color: #00af00\">10</span>)          │       <span style=\"color: #00af00; text-decoration-color: #00af00\">100,000</span> │\n",
              "└─────────────────────────────────┴────────────────────────┴───────────────┘\n",
              "</pre>\n"
            ]
          },
          "metadata": {}
        },
        {
          "output_type": "display_data",
          "data": {
            "text/plain": [
              "\u001b[1m Total params: \u001b[0m\u001b[38;5;34m100,000\u001b[0m (390.62 KB)\n"
            ],
            "text/html": [
              "<pre style=\"white-space:pre;overflow-x:auto;line-height:normal;font-family:Menlo,'DejaVu Sans Mono',consolas,'Courier New',monospace\"><span style=\"font-weight: bold\"> Total params: </span><span style=\"color: #00af00; text-decoration-color: #00af00\">100,000</span> (390.62 KB)\n",
              "</pre>\n"
            ]
          },
          "metadata": {}
        },
        {
          "output_type": "display_data",
          "data": {
            "text/plain": [
              "\u001b[1m Trainable params: \u001b[0m\u001b[38;5;34m100,000\u001b[0m (390.62 KB)\n"
            ],
            "text/html": [
              "<pre style=\"white-space:pre;overflow-x:auto;line-height:normal;font-family:Menlo,'DejaVu Sans Mono',consolas,'Courier New',monospace\"><span style=\"font-weight: bold\"> Trainable params: </span><span style=\"color: #00af00; text-decoration-color: #00af00\">100,000</span> (390.62 KB)\n",
              "</pre>\n"
            ]
          },
          "metadata": {}
        },
        {
          "output_type": "display_data",
          "data": {
            "text/plain": [
              "\u001b[1m Non-trainable params: \u001b[0m\u001b[38;5;34m0\u001b[0m (0.00 B)\n"
            ],
            "text/html": [
              "<pre style=\"white-space:pre;overflow-x:auto;line-height:normal;font-family:Menlo,'DejaVu Sans Mono',consolas,'Courier New',monospace\"><span style=\"font-weight: bold\"> Non-trainable params: </span><span style=\"color: #00af00; text-decoration-color: #00af00\">0</span> (0.00 B)\n",
              "</pre>\n"
            ]
          },
          "metadata": {}
        }
      ]
    },
    {
      "cell_type": "code",
      "source": [
        "model.predict(embeeded_docs)"
      ],
      "metadata": {
        "colab": {
          "base_uri": "https://localhost:8080/",
          "height": 0
        },
        "id": "5ivMGKQsx28U",
        "outputId": "0f866f3e-7a60-4a23-a3be-025e70db8cc0"
      },
      "execution_count": 12,
      "outputs": [
        {
          "output_type": "stream",
          "name": "stdout",
          "text": [
            "\u001b[1m1/1\u001b[0m \u001b[32m━━━━━━━━━━━━━━━━━━━━\u001b[0m\u001b[37m\u001b[0m \u001b[1m0s\u001b[0m 129ms/step\n"
          ]
        },
        {
          "output_type": "execute_result",
          "data": {
            "text/plain": [
              "array([[[ 0.00311605,  0.02793715, -0.0459164 , -0.04346844,\n",
              "         -0.00368387, -0.02583687, -0.00252583,  0.04178487,\n",
              "         -0.02400442,  0.03292282],\n",
              "        [ 0.00311605,  0.02793715, -0.0459164 , -0.04346844,\n",
              "         -0.00368387, -0.02583687, -0.00252583,  0.04178487,\n",
              "         -0.02400442,  0.03292282],\n",
              "        [ 0.00311605,  0.02793715, -0.0459164 , -0.04346844,\n",
              "         -0.00368387, -0.02583687, -0.00252583,  0.04178487,\n",
              "         -0.02400442,  0.03292282],\n",
              "        [ 0.00311605,  0.02793715, -0.0459164 , -0.04346844,\n",
              "         -0.00368387, -0.02583687, -0.00252583,  0.04178487,\n",
              "         -0.02400442,  0.03292282],\n",
              "        [ 0.04965105, -0.0075459 ,  0.04889207,  0.04818786,\n",
              "          0.02832346, -0.00881125, -0.03932878,  0.04498998,\n",
              "          0.02867362,  0.04613357],\n",
              "        [ 0.03215614, -0.03477772, -0.01776636,  0.02353549,\n",
              "         -0.03469773, -0.02311865, -0.00245154,  0.01628134,\n",
              "          0.01521396,  0.01987398],\n",
              "        [ 0.02955851,  0.00954564,  0.01632711, -0.03447504,\n",
              "          0.03799457, -0.03873   , -0.02481988, -0.03900773,\n",
              "         -0.00029997, -0.04535145],\n",
              "        [-0.00228222, -0.03782828, -0.04199536, -0.00487337,\n",
              "          0.02599111,  0.00732644, -0.0172133 ,  0.03190572,\n",
              "          0.04465356,  0.00384272]],\n",
              "\n",
              "       [[ 0.00311605,  0.02793715, -0.0459164 , -0.04346844,\n",
              "         -0.00368387, -0.02583687, -0.00252583,  0.04178487,\n",
              "         -0.02400442,  0.03292282],\n",
              "        [ 0.00311605,  0.02793715, -0.0459164 , -0.04346844,\n",
              "         -0.00368387, -0.02583687, -0.00252583,  0.04178487,\n",
              "         -0.02400442,  0.03292282],\n",
              "        [ 0.00311605,  0.02793715, -0.0459164 , -0.04346844,\n",
              "         -0.00368387, -0.02583687, -0.00252583,  0.04178487,\n",
              "         -0.02400442,  0.03292282],\n",
              "        [ 0.00311605,  0.02793715, -0.0459164 , -0.04346844,\n",
              "         -0.00368387, -0.02583687, -0.00252583,  0.04178487,\n",
              "         -0.02400442,  0.03292282],\n",
              "        [ 0.04965105, -0.0075459 ,  0.04889207,  0.04818786,\n",
              "          0.02832346, -0.00881125, -0.03932878,  0.04498998,\n",
              "          0.02867362,  0.04613357],\n",
              "        [ 0.03215614, -0.03477772, -0.01776636,  0.02353549,\n",
              "         -0.03469773, -0.02311865, -0.00245154,  0.01628134,\n",
              "          0.01521396,  0.01987398],\n",
              "        [ 0.02955851,  0.00954564,  0.01632711, -0.03447504,\n",
              "          0.03799457, -0.03873   , -0.02481988, -0.03900773,\n",
              "         -0.00029997, -0.04535145],\n",
              "        [-0.03438945,  0.00464474, -0.04774621,  0.00068325,\n",
              "          0.00954747,  0.02827859,  0.009435  , -0.00269927,\n",
              "         -0.0035712 ,  0.00821555]],\n",
              "\n",
              "       [[ 0.00311605,  0.02793715, -0.0459164 , -0.04346844,\n",
              "         -0.00368387, -0.02583687, -0.00252583,  0.04178487,\n",
              "         -0.02400442,  0.03292282],\n",
              "        [ 0.00311605,  0.02793715, -0.0459164 , -0.04346844,\n",
              "         -0.00368387, -0.02583687, -0.00252583,  0.04178487,\n",
              "         -0.02400442,  0.03292282],\n",
              "        [ 0.00311605,  0.02793715, -0.0459164 , -0.04346844,\n",
              "         -0.00368387, -0.02583687, -0.00252583,  0.04178487,\n",
              "         -0.02400442,  0.03292282],\n",
              "        [ 0.00311605,  0.02793715, -0.0459164 , -0.04346844,\n",
              "         -0.00368387, -0.02583687, -0.00252583,  0.04178487,\n",
              "         -0.02400442,  0.03292282],\n",
              "        [ 0.04965105, -0.0075459 ,  0.04889207,  0.04818786,\n",
              "          0.02832346, -0.00881125, -0.03932878,  0.04498998,\n",
              "          0.02867362,  0.04613357],\n",
              "        [-0.03938381,  0.01792908, -0.01268981,  0.00498041,\n",
              "          0.02935253, -0.01529217, -0.04688763, -0.02960293,\n",
              "         -0.04325603, -0.03660551],\n",
              "        [ 0.02955851,  0.00954564,  0.01632711, -0.03447504,\n",
              "          0.03799457, -0.03873   , -0.02481988, -0.03900773,\n",
              "         -0.00029997, -0.04535145],\n",
              "        [-0.03144424, -0.00337336,  0.04767457, -0.00765741,\n",
              "          0.04361924,  0.00735695, -0.02017376,  0.02669693,\n",
              "         -0.03817103,  0.01204507]],\n",
              "\n",
              "       [[ 0.00311605,  0.02793715, -0.0459164 , -0.04346844,\n",
              "         -0.00368387, -0.02583687, -0.00252583,  0.04178487,\n",
              "         -0.02400442,  0.03292282],\n",
              "        [ 0.00311605,  0.02793715, -0.0459164 , -0.04346844,\n",
              "         -0.00368387, -0.02583687, -0.00252583,  0.04178487,\n",
              "         -0.02400442,  0.03292282],\n",
              "        [ 0.00311605,  0.02793715, -0.0459164 , -0.04346844,\n",
              "         -0.00368387, -0.02583687, -0.00252583,  0.04178487,\n",
              "         -0.02400442,  0.03292282],\n",
              "        [ 0.00803435,  0.02172672,  0.02784112,  0.01861179,\n",
              "          0.03616352,  0.02172753,  0.0318017 , -0.02646664,\n",
              "         -0.01243461, -0.04307215],\n",
              "        [ 0.0294518 ,  0.04843644, -0.03339509, -0.04866157,\n",
              "         -0.03748714, -0.04885326, -0.01750825,  0.04994298,\n",
              "         -0.01343478, -0.01862924],\n",
              "        [ 0.01541511,  0.01024772, -0.01196821, -0.01254022,\n",
              "          0.0030975 ,  0.04685086, -0.02222395,  0.03732821,\n",
              "         -0.00032442, -0.02438107],\n",
              "        [ 0.01563132, -0.038711  ,  0.00783287,  0.00175812,\n",
              "          0.03201405, -0.04302061, -0.01760693, -0.01671647,\n",
              "          0.02813229, -0.01461976],\n",
              "        [ 0.00136103,  0.03549716, -0.01690697,  0.00375687,\n",
              "          0.01337098,  0.0008332 , -0.04741235, -0.01719506,\n",
              "          0.01064213, -0.0055755 ]],\n",
              "\n",
              "       [[ 0.00311605,  0.02793715, -0.0459164 , -0.04346844,\n",
              "         -0.00368387, -0.02583687, -0.00252583,  0.04178487,\n",
              "         -0.02400442,  0.03292282],\n",
              "        [ 0.00311605,  0.02793715, -0.0459164 , -0.04346844,\n",
              "         -0.00368387, -0.02583687, -0.00252583,  0.04178487,\n",
              "         -0.02400442,  0.03292282],\n",
              "        [ 0.00311605,  0.02793715, -0.0459164 , -0.04346844,\n",
              "         -0.00368387, -0.02583687, -0.00252583,  0.04178487,\n",
              "         -0.02400442,  0.03292282],\n",
              "        [ 0.00803435,  0.02172672,  0.02784112,  0.01861179,\n",
              "          0.03616352,  0.02172753,  0.0318017 , -0.02646664,\n",
              "         -0.01243461, -0.04307215],\n",
              "        [ 0.0294518 ,  0.04843644, -0.03339509, -0.04866157,\n",
              "         -0.03748714, -0.04885326, -0.01750825,  0.04994298,\n",
              "         -0.01343478, -0.01862924],\n",
              "        [ 0.01541511,  0.01024772, -0.01196821, -0.01254022,\n",
              "          0.0030975 ,  0.04685086, -0.02222395,  0.03732821,\n",
              "         -0.00032442, -0.02438107],\n",
              "        [ 0.01563132, -0.038711  ,  0.00783287,  0.00175812,\n",
              "          0.03201405, -0.04302061, -0.01760693, -0.01671647,\n",
              "          0.02813229, -0.01461976],\n",
              "        [ 0.00171449,  0.0126547 ,  0.03056555, -0.01748018,\n",
              "         -0.02201401, -0.02249318, -0.03546171, -0.00105952,\n",
              "         -0.01954895, -0.0210702 ]],\n",
              "\n",
              "       [[ 0.00311605,  0.02793715, -0.0459164 , -0.04346844,\n",
              "         -0.00368387, -0.02583687, -0.00252583,  0.04178487,\n",
              "         -0.02400442,  0.03292282],\n",
              "        [ 0.00311605,  0.02793715, -0.0459164 , -0.04346844,\n",
              "         -0.00368387, -0.02583687, -0.00252583,  0.04178487,\n",
              "         -0.02400442,  0.03292282],\n",
              "        [ 0.00311605,  0.02793715, -0.0459164 , -0.04346844,\n",
              "         -0.00368387, -0.02583687, -0.00252583,  0.04178487,\n",
              "         -0.02400442,  0.03292282],\n",
              "        [-0.0304221 ,  0.02187956,  0.03692964, -0.01961426,\n",
              "          0.03194554, -0.00929136,  0.0275625 ,  0.0351037 ,\n",
              "          0.00170504,  0.01570613],\n",
              "        [ 0.04965105, -0.0075459 ,  0.04889207,  0.04818786,\n",
              "          0.02832346, -0.00881125, -0.03932878,  0.04498998,\n",
              "          0.02867362,  0.04613357],\n",
              "        [-0.01219266,  0.04386901,  0.02777414, -0.01866124,\n",
              "          0.03919257,  0.03682751, -0.03772368,  0.02358304,\n",
              "          0.0064623 , -0.00487996],\n",
              "        [ 0.02955851,  0.00954564,  0.01632711, -0.03447504,\n",
              "          0.03799457, -0.03873   , -0.02481988, -0.03900773,\n",
              "         -0.00029997, -0.04535145],\n",
              "        [-0.01010185, -0.00665047,  0.04909004, -0.01069402,\n",
              "          0.01817939,  0.02618575,  0.02857346, -0.02240207,\n",
              "         -0.02974149,  0.04307189]],\n",
              "\n",
              "       [[ 0.00311605,  0.02793715, -0.0459164 , -0.04346844,\n",
              "         -0.00368387, -0.02583687, -0.00252583,  0.04178487,\n",
              "         -0.02400442,  0.03292282],\n",
              "        [ 0.00311605,  0.02793715, -0.0459164 , -0.04346844,\n",
              "         -0.00368387, -0.02583687, -0.00252583,  0.04178487,\n",
              "         -0.02400442,  0.03292282],\n",
              "        [ 0.00311605,  0.02793715, -0.0459164 , -0.04346844,\n",
              "         -0.00368387, -0.02583687, -0.00252583,  0.04178487,\n",
              "         -0.02400442,  0.03292282],\n",
              "        [ 0.00311605,  0.02793715, -0.0459164 , -0.04346844,\n",
              "         -0.00368387, -0.02583687, -0.00252583,  0.04178487,\n",
              "         -0.02400442,  0.03292282],\n",
              "        [-0.0250357 , -0.00019425, -0.03394438,  0.0344937 ,\n",
              "          0.0072329 ,  0.02426585,  0.01437427, -0.00694437,\n",
              "         -0.03156884, -0.03467386],\n",
              "        [-0.01741342, -0.03578441, -0.01513946, -0.013773  ,\n",
              "          0.02772827,  0.03476825,  0.02478335, -0.03468538,\n",
              "          0.02060722, -0.01204243],\n",
              "        [-0.04305265,  0.02766535, -0.04052296,  0.02064034,\n",
              "         -0.01960418, -0.01895951,  0.04163982, -0.04910586,\n",
              "          0.02877781,  0.01014503],\n",
              "        [ 0.01563132, -0.038711  ,  0.00783287,  0.00175812,\n",
              "          0.03201405, -0.04302061, -0.01760693, -0.01671647,\n",
              "          0.02813229, -0.01461976]]], dtype=float32)"
            ]
          },
          "metadata": {},
          "execution_count": 12
        }
      ]
    },
    {
      "cell_type": "code",
      "source": [
        "embeeded_docs[0]"
      ],
      "metadata": {
        "colab": {
          "base_uri": "https://localhost:8080/"
        },
        "id": "7fJN_aIp8d4u",
        "outputId": "5af245d2-9c7b-4346-c1f7-c91ef83911f0"
      },
      "execution_count": 15,
      "outputs": [
        {
          "output_type": "execute_result",
          "data": {
            "text/plain": [
              "array([   0,    0,    0,    0, 9217, 4460, 5953, 7610], dtype=int32)"
            ]
          },
          "metadata": {},
          "execution_count": 15
        }
      ]
    },
    {
      "cell_type": "code",
      "source": [],
      "metadata": {
        "id": "WqcbFrZe-BPK"
      },
      "execution_count": null,
      "outputs": []
    },
    {
      "cell_type": "code",
      "source": [
        "model.predict(embeeded_docs)"
      ],
      "metadata": {
        "colab": {
          "base_uri": "https://localhost:8080/"
        },
        "id": "xpQ9K55c7onx",
        "outputId": "4b277e37-393f-461e-88f3-4e3645fb26c8"
      },
      "execution_count": 19,
      "outputs": [
        {
          "output_type": "stream",
          "name": "stdout",
          "text": [
            "\u001b[1m1/1\u001b[0m \u001b[32m━━━━━━━━━━━━━━━━━━━━\u001b[0m\u001b[37m\u001b[0m \u001b[1m0s\u001b[0m 42ms/step\n"
          ]
        },
        {
          "output_type": "execute_result",
          "data": {
            "text/plain": [
              "array([[[ 0.00311605,  0.02793715, -0.0459164 , -0.04346844,\n",
              "         -0.00368387, -0.02583687, -0.00252583,  0.04178487,\n",
              "         -0.02400442,  0.03292282],\n",
              "        [ 0.00311605,  0.02793715, -0.0459164 , -0.04346844,\n",
              "         -0.00368387, -0.02583687, -0.00252583,  0.04178487,\n",
              "         -0.02400442,  0.03292282],\n",
              "        [ 0.00311605,  0.02793715, -0.0459164 , -0.04346844,\n",
              "         -0.00368387, -0.02583687, -0.00252583,  0.04178487,\n",
              "         -0.02400442,  0.03292282],\n",
              "        [ 0.00311605,  0.02793715, -0.0459164 , -0.04346844,\n",
              "         -0.00368387, -0.02583687, -0.00252583,  0.04178487,\n",
              "         -0.02400442,  0.03292282],\n",
              "        [ 0.04965105, -0.0075459 ,  0.04889207,  0.04818786,\n",
              "          0.02832346, -0.00881125, -0.03932878,  0.04498998,\n",
              "          0.02867362,  0.04613357],\n",
              "        [ 0.03215614, -0.03477772, -0.01776636,  0.02353549,\n",
              "         -0.03469773, -0.02311865, -0.00245154,  0.01628134,\n",
              "          0.01521396,  0.01987398],\n",
              "        [ 0.02955851,  0.00954564,  0.01632711, -0.03447504,\n",
              "          0.03799457, -0.03873   , -0.02481988, -0.03900773,\n",
              "         -0.00029997, -0.04535145],\n",
              "        [-0.00228222, -0.03782828, -0.04199536, -0.00487337,\n",
              "          0.02599111,  0.00732644, -0.0172133 ,  0.03190572,\n",
              "          0.04465356,  0.00384272]],\n",
              "\n",
              "       [[ 0.00311605,  0.02793715, -0.0459164 , -0.04346844,\n",
              "         -0.00368387, -0.02583687, -0.00252583,  0.04178487,\n",
              "         -0.02400442,  0.03292282],\n",
              "        [ 0.00311605,  0.02793715, -0.0459164 , -0.04346844,\n",
              "         -0.00368387, -0.02583687, -0.00252583,  0.04178487,\n",
              "         -0.02400442,  0.03292282],\n",
              "        [ 0.00311605,  0.02793715, -0.0459164 , -0.04346844,\n",
              "         -0.00368387, -0.02583687, -0.00252583,  0.04178487,\n",
              "         -0.02400442,  0.03292282],\n",
              "        [ 0.00311605,  0.02793715, -0.0459164 , -0.04346844,\n",
              "         -0.00368387, -0.02583687, -0.00252583,  0.04178487,\n",
              "         -0.02400442,  0.03292282],\n",
              "        [ 0.04965105, -0.0075459 ,  0.04889207,  0.04818786,\n",
              "          0.02832346, -0.00881125, -0.03932878,  0.04498998,\n",
              "          0.02867362,  0.04613357],\n",
              "        [ 0.03215614, -0.03477772, -0.01776636,  0.02353549,\n",
              "         -0.03469773, -0.02311865, -0.00245154,  0.01628134,\n",
              "          0.01521396,  0.01987398],\n",
              "        [ 0.02955851,  0.00954564,  0.01632711, -0.03447504,\n",
              "          0.03799457, -0.03873   , -0.02481988, -0.03900773,\n",
              "         -0.00029997, -0.04535145],\n",
              "        [-0.03438945,  0.00464474, -0.04774621,  0.00068325,\n",
              "          0.00954747,  0.02827859,  0.009435  , -0.00269927,\n",
              "         -0.0035712 ,  0.00821555]],\n",
              "\n",
              "       [[ 0.00311605,  0.02793715, -0.0459164 , -0.04346844,\n",
              "         -0.00368387, -0.02583687, -0.00252583,  0.04178487,\n",
              "         -0.02400442,  0.03292282],\n",
              "        [ 0.00311605,  0.02793715, -0.0459164 , -0.04346844,\n",
              "         -0.00368387, -0.02583687, -0.00252583,  0.04178487,\n",
              "         -0.02400442,  0.03292282],\n",
              "        [ 0.00311605,  0.02793715, -0.0459164 , -0.04346844,\n",
              "         -0.00368387, -0.02583687, -0.00252583,  0.04178487,\n",
              "         -0.02400442,  0.03292282],\n",
              "        [ 0.00311605,  0.02793715, -0.0459164 , -0.04346844,\n",
              "         -0.00368387, -0.02583687, -0.00252583,  0.04178487,\n",
              "         -0.02400442,  0.03292282],\n",
              "        [ 0.04965105, -0.0075459 ,  0.04889207,  0.04818786,\n",
              "          0.02832346, -0.00881125, -0.03932878,  0.04498998,\n",
              "          0.02867362,  0.04613357],\n",
              "        [-0.03938381,  0.01792908, -0.01268981,  0.00498041,\n",
              "          0.02935253, -0.01529217, -0.04688763, -0.02960293,\n",
              "         -0.04325603, -0.03660551],\n",
              "        [ 0.02955851,  0.00954564,  0.01632711, -0.03447504,\n",
              "          0.03799457, -0.03873   , -0.02481988, -0.03900773,\n",
              "         -0.00029997, -0.04535145],\n",
              "        [-0.03144424, -0.00337336,  0.04767457, -0.00765741,\n",
              "          0.04361924,  0.00735695, -0.02017376,  0.02669693,\n",
              "         -0.03817103,  0.01204507]],\n",
              "\n",
              "       [[ 0.00311605,  0.02793715, -0.0459164 , -0.04346844,\n",
              "         -0.00368387, -0.02583687, -0.00252583,  0.04178487,\n",
              "         -0.02400442,  0.03292282],\n",
              "        [ 0.00311605,  0.02793715, -0.0459164 , -0.04346844,\n",
              "         -0.00368387, -0.02583687, -0.00252583,  0.04178487,\n",
              "         -0.02400442,  0.03292282],\n",
              "        [ 0.00311605,  0.02793715, -0.0459164 , -0.04346844,\n",
              "         -0.00368387, -0.02583687, -0.00252583,  0.04178487,\n",
              "         -0.02400442,  0.03292282],\n",
              "        [ 0.00803435,  0.02172672,  0.02784112,  0.01861179,\n",
              "          0.03616352,  0.02172753,  0.0318017 , -0.02646664,\n",
              "         -0.01243461, -0.04307215],\n",
              "        [ 0.0294518 ,  0.04843644, -0.03339509, -0.04866157,\n",
              "         -0.03748714, -0.04885326, -0.01750825,  0.04994298,\n",
              "         -0.01343478, -0.01862924],\n",
              "        [ 0.01541511,  0.01024772, -0.01196821, -0.01254022,\n",
              "          0.0030975 ,  0.04685086, -0.02222395,  0.03732821,\n",
              "         -0.00032442, -0.02438107],\n",
              "        [ 0.01563132, -0.038711  ,  0.00783287,  0.00175812,\n",
              "          0.03201405, -0.04302061, -0.01760693, -0.01671647,\n",
              "          0.02813229, -0.01461976],\n",
              "        [ 0.00136103,  0.03549716, -0.01690697,  0.00375687,\n",
              "          0.01337098,  0.0008332 , -0.04741235, -0.01719506,\n",
              "          0.01064213, -0.0055755 ]],\n",
              "\n",
              "       [[ 0.00311605,  0.02793715, -0.0459164 , -0.04346844,\n",
              "         -0.00368387, -0.02583687, -0.00252583,  0.04178487,\n",
              "         -0.02400442,  0.03292282],\n",
              "        [ 0.00311605,  0.02793715, -0.0459164 , -0.04346844,\n",
              "         -0.00368387, -0.02583687, -0.00252583,  0.04178487,\n",
              "         -0.02400442,  0.03292282],\n",
              "        [ 0.00311605,  0.02793715, -0.0459164 , -0.04346844,\n",
              "         -0.00368387, -0.02583687, -0.00252583,  0.04178487,\n",
              "         -0.02400442,  0.03292282],\n",
              "        [ 0.00803435,  0.02172672,  0.02784112,  0.01861179,\n",
              "          0.03616352,  0.02172753,  0.0318017 , -0.02646664,\n",
              "         -0.01243461, -0.04307215],\n",
              "        [ 0.0294518 ,  0.04843644, -0.03339509, -0.04866157,\n",
              "         -0.03748714, -0.04885326, -0.01750825,  0.04994298,\n",
              "         -0.01343478, -0.01862924],\n",
              "        [ 0.01541511,  0.01024772, -0.01196821, -0.01254022,\n",
              "          0.0030975 ,  0.04685086, -0.02222395,  0.03732821,\n",
              "         -0.00032442, -0.02438107],\n",
              "        [ 0.01563132, -0.038711  ,  0.00783287,  0.00175812,\n",
              "          0.03201405, -0.04302061, -0.01760693, -0.01671647,\n",
              "          0.02813229, -0.01461976],\n",
              "        [ 0.00171449,  0.0126547 ,  0.03056555, -0.01748018,\n",
              "         -0.02201401, -0.02249318, -0.03546171, -0.00105952,\n",
              "         -0.01954895, -0.0210702 ]],\n",
              "\n",
              "       [[ 0.00311605,  0.02793715, -0.0459164 , -0.04346844,\n",
              "         -0.00368387, -0.02583687, -0.00252583,  0.04178487,\n",
              "         -0.02400442,  0.03292282],\n",
              "        [ 0.00311605,  0.02793715, -0.0459164 , -0.04346844,\n",
              "         -0.00368387, -0.02583687, -0.00252583,  0.04178487,\n",
              "         -0.02400442,  0.03292282],\n",
              "        [ 0.00311605,  0.02793715, -0.0459164 , -0.04346844,\n",
              "         -0.00368387, -0.02583687, -0.00252583,  0.04178487,\n",
              "         -0.02400442,  0.03292282],\n",
              "        [-0.0304221 ,  0.02187956,  0.03692964, -0.01961426,\n",
              "          0.03194554, -0.00929136,  0.0275625 ,  0.0351037 ,\n",
              "          0.00170504,  0.01570613],\n",
              "        [ 0.04965105, -0.0075459 ,  0.04889207,  0.04818786,\n",
              "          0.02832346, -0.00881125, -0.03932878,  0.04498998,\n",
              "          0.02867362,  0.04613357],\n",
              "        [-0.01219266,  0.04386901,  0.02777414, -0.01866124,\n",
              "          0.03919257,  0.03682751, -0.03772368,  0.02358304,\n",
              "          0.0064623 , -0.00487996],\n",
              "        [ 0.02955851,  0.00954564,  0.01632711, -0.03447504,\n",
              "          0.03799457, -0.03873   , -0.02481988, -0.03900773,\n",
              "         -0.00029997, -0.04535145],\n",
              "        [-0.01010185, -0.00665047,  0.04909004, -0.01069402,\n",
              "          0.01817939,  0.02618575,  0.02857346, -0.02240207,\n",
              "         -0.02974149,  0.04307189]],\n",
              "\n",
              "       [[ 0.00311605,  0.02793715, -0.0459164 , -0.04346844,\n",
              "         -0.00368387, -0.02583687, -0.00252583,  0.04178487,\n",
              "         -0.02400442,  0.03292282],\n",
              "        [ 0.00311605,  0.02793715, -0.0459164 , -0.04346844,\n",
              "         -0.00368387, -0.02583687, -0.00252583,  0.04178487,\n",
              "         -0.02400442,  0.03292282],\n",
              "        [ 0.00311605,  0.02793715, -0.0459164 , -0.04346844,\n",
              "         -0.00368387, -0.02583687, -0.00252583,  0.04178487,\n",
              "         -0.02400442,  0.03292282],\n",
              "        [ 0.00311605,  0.02793715, -0.0459164 , -0.04346844,\n",
              "         -0.00368387, -0.02583687, -0.00252583,  0.04178487,\n",
              "         -0.02400442,  0.03292282],\n",
              "        [-0.0250357 , -0.00019425, -0.03394438,  0.0344937 ,\n",
              "          0.0072329 ,  0.02426585,  0.01437427, -0.00694437,\n",
              "         -0.03156884, -0.03467386],\n",
              "        [-0.01741342, -0.03578441, -0.01513946, -0.013773  ,\n",
              "          0.02772827,  0.03476825,  0.02478335, -0.03468538,\n",
              "          0.02060722, -0.01204243],\n",
              "        [-0.04305265,  0.02766535, -0.04052296,  0.02064034,\n",
              "         -0.01960418, -0.01895951,  0.04163982, -0.04910586,\n",
              "          0.02877781,  0.01014503],\n",
              "        [ 0.01563132, -0.038711  ,  0.00783287,  0.00175812,\n",
              "          0.03201405, -0.04302061, -0.01760693, -0.01671647,\n",
              "          0.02813229, -0.01461976]]], dtype=float32)"
            ]
          },
          "metadata": {},
          "execution_count": 19
        }
      ]
    },
    {
      "cell_type": "code",
      "source": [
        "import numpy as np\n",
        "\n",
        "# Ensure the input is shaped as (1, 8)\n",
        "input_sample = np.array([embeeded_docs[0]])  # shape: (1, 8)\n",
        "\n",
        "# Predict\n",
        "embedding = model.predict(input_sample)\n",
        "\n",
        "# Check shape and view output\n",
        "print(\"Embedding shape:\", embedding.shape)  # (1, 8, 10)\n",
        "print(\"Embedding for each word:\\n\", embedding[0])  # (8, 10)\n"
      ],
      "metadata": {
        "colab": {
          "base_uri": "https://localhost:8080/"
        },
        "id": "n66Q78oY9EsB",
        "outputId": "17741d35-03ea-4ec8-d186-083a4a7d16e5"
      },
      "execution_count": 22,
      "outputs": [
        {
          "output_type": "stream",
          "name": "stdout",
          "text": [
            "\u001b[1m1/1\u001b[0m \u001b[32m━━━━━━━━━━━━━━━━━━━━\u001b[0m\u001b[37m\u001b[0m \u001b[1m0s\u001b[0m 67ms/step\n",
            "Embedding shape: (1, 8, 10)\n",
            "Embedding for each word:\n",
            " [[ 0.00311605  0.02793715 -0.0459164  -0.04346844 -0.00368387 -0.02583687\n",
            "  -0.00252583  0.04178487 -0.02400442  0.03292282]\n",
            " [ 0.00311605  0.02793715 -0.0459164  -0.04346844 -0.00368387 -0.02583687\n",
            "  -0.00252583  0.04178487 -0.02400442  0.03292282]\n",
            " [ 0.00311605  0.02793715 -0.0459164  -0.04346844 -0.00368387 -0.02583687\n",
            "  -0.00252583  0.04178487 -0.02400442  0.03292282]\n",
            " [ 0.00311605  0.02793715 -0.0459164  -0.04346844 -0.00368387 -0.02583687\n",
            "  -0.00252583  0.04178487 -0.02400442  0.03292282]\n",
            " [ 0.04965105 -0.0075459   0.04889207  0.04818786  0.02832346 -0.00881125\n",
            "  -0.03932878  0.04498998  0.02867362  0.04613357]\n",
            " [ 0.03215614 -0.03477772 -0.01776636  0.02353549 -0.03469773 -0.02311865\n",
            "  -0.00245154  0.01628134  0.01521396  0.01987398]\n",
            " [ 0.02955851  0.00954564  0.01632711 -0.03447504  0.03799457 -0.03873\n",
            "  -0.02481988 -0.03900773 -0.00029997 -0.04535145]\n",
            " [-0.00228222 -0.03782828 -0.04199536 -0.00487337  0.02599111  0.00732644\n",
            "  -0.0172133   0.03190572  0.04465356  0.00384272]]\n"
          ]
        }
      ]
    }
  ]
}